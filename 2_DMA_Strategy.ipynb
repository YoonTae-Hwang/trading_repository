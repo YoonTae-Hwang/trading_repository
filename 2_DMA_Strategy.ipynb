{
  "nbformat": 4,
  "nbformat_minor": 0,
  "metadata": {
    "colab": {
      "name": "Backtrader_DMA.ipynb",
      "provenance": [],
      "collapsed_sections": [],
      "authorship_tag": "ABX9TyOdEfU2qW5w+fYAackABA4e",
      "include_colab_link": true
    },
    "kernelspec": {
      "name": "python3",
      "display_name": "Python 3"
    }
  },
  "cells": [
    {
      "cell_type": "markdown",
      "metadata": {
        "id": "view-in-github",
        "colab_type": "text"
      },
      "source": [
        "<a href=\"https://colab.research.google.com/github/YoonTae-Hwang/trading_repository/blob/master/Backtrader_DMA.ipynb\" target=\"_parent\"><img src=\"https://colab.research.google.com/assets/colab-badge.svg\" alt=\"Open In Colab\"/></a>"
      ]
    },
    {
      "cell_type": "markdown",
      "metadata": {
        "id": "qaHVgF_GQ16O",
        "colab_type": "text"
      },
      "source": [
        "## The Strategy : Dual Moving Average(DMA)\n",
        "\n",
        "1. DMA Introduction \n",
        " - 주식시장에는 이동평균선(Moving Average)라는 지표가 존재한다. 이 지표는 n일 동안의 주가를 평균낸 값을 이어서 표시하는 지표로서 현재의 주가가 평균으로부터 어느정도 벌어져 있는지를 살펴본다.\n",
        " - Moving Average의 등장배경은 금융공학에서 말하는 주식시장의 Brownian Motion과 관련이 있다. 다시 말해, 주가의 방향은 무작위성을 가진다는 것이다. 그럼에도 불구하고, 무작위성을 가지는 움직임의 평균을 통해 어느정도 **방향성**정도는 찾을 수 있을것이라는 생각에 Moving Average가 등장하였다.\n",
        " - 주식시장에서 많이 사용되는 이동평균선은 주로 5일, 10일, 20일, 50일, 100일, 200일로 구성되어있다. 이는 주식시장이 평일에만 이루어지기 때문에 일주일의 평균이 아닌 5일의 평균으로 사용한다.\n",
        " - 여기서 Dual Moving Average 전략은 앞서 설명한 이동평균선을 2가지를  사용한다. \n",
        "\n",
        "2. DMA Method\n",
        " - Moving Average에서는 평균을 구할때 다음과 같이 다양한 방법을 사용한다.\n",
        "    - Simple Moving Average = $\\frac{(P_{1}+P_{2}+....+P_{N})}{N}$  \n",
        "      - 단순이동평균을 구하는 방법이다. 이 때 P는 Closed이다.\n",
        "    - Weight Moving Average = $\\frac{(1 * P_{1} + 2 * P_{2}+....+n * P_{N}}{\\frac{n(n+1)}{2}}$\n",
        "      - 현재에 가까운 가격 데이터가 과거의 데이터보다 더 중요하다는 가정하에 사용한다. 가장 최근의 값인 $P_{n}$에 n만큼의 높은 가중치를 준다. \n",
        "    - Exponetial Moving Average = $(P_{n} * EP) + (P_{n-1} * (1-EP))$\n",
        "      - EP(평활계수 : Exponential Percentage) = $\\frac{2}{n+1}$\n",
        "      - SMA의 단점을 보완하기 위해서 생긴 방법으로 WMA와 유사하게 최근의 가격이 과거의 데이터보다 중요하다는 가정하에 사용한다. 두드러진 특징은 평활 계수가 곱해짐으로써 최근 값에 더 민감해서 단기 거래에 효과적이다.\n",
        "    - Least Squares Moving Average\n",
        "    - Cumulative Moving Average\n",
        "    - Hull Moving Average\n",
        "    - Wilder Moving Average [링크 달아둘예정]\n",
        "\n",
        "3. Type of index - typical classification\n",
        " 1. Leading index : 가격 변동에 선행하는 지표로 미래를 예측하기 위해 사용되며, 이러한 지표들은 보합이나 변동이 거의 없는 상태에서 유용함. 이를 통해서 주식의 가격이 급격히 상승하거나 급격히 하락하는 지점들을 확인할 수 있음.\n",
        " 2. Lagging index : 가격의 상승 혹은 하락 추세가 지속되는지 약화되는지 확인할 때 사용할 수 있으므로 특정 추세기간에서 유용하게 사용할 수 있다.\n",
        "\n",
        "4. Type of index - How are the index created?\n",
        " 1. Oscilators Index : 기술적 지표의 일종으로 과매수와 과매도를 수치적으로 표시한다. 일반적으로 0에서 100까지 값을 갖도록 한다.\n",
        " 2. Non-Bounded Index: 추세의 강함과 약한정도를 표현해주는 지표로 매수 시점과 매도 시점의 신호를 나타내는대 도움을 준다. \n",
        "\n",
        "5. What is Dual Moving averages?\n",
        " 1. Moving Average는 Lagging index의 일종이다. 즉 이동평균으로 나타나는 신호가 나타나는 순간 이미 실제 추세는 바뀐다. 그렇다고 MA가 전혀 효과가 없는 것이 아니다. 종가를 평활화(Smooth)함으로써 추세의 방향을 더 쉽게 알아 볼 수가 있다.\n",
        " 2. DMA는 이름그대로 두 가지의 이동평균선을 사용한다. \n",
        "    - 단기이동평균선 >= 장기이동평균선 : 강세(Bullish cross over)\n",
        "    - ![DMA](./strategy_img/DMA.jpg)\n",
        "    - 단기이동평균선 <= 장기이동평균선 : 약세(Bearish cross over)\n",
        "    - 단기이동평균선과 장기이동평균선은 적절하게 선택하면 된다.\n",
        "    - 이 전략은 앞서 설명한 오실레이터(Oscilators index)들과 함께 사용하는 경우에 큰 이점이 있다.\n",
        "\n",
        " 6. Cautions\n",
        "    - 과거데이터를 기반으로 하기 때문이 신호가 늦는 경우가 많은데 특히 데이터의 범위가 크면 클수록 지연이 커진다. 또한, 잘못된 신호들이 발생하는 경우가 있으므로 오실레이터 지표들과 함께 사용하는것이 좋다.\n",
        "\n",
        " 7. Reference paper\n",
        "  - "
      ]
    },
    {
      "cell_type": "markdown",
      "metadata": {
        "id": "VVT4zudAbWl5",
        "colab_type": "text"
      },
      "source": [
        "### Before we start\n",
        "\n",
        "1. Entry :\n",
        "   - SMA(50) >= SMA(200) : Bullish cross over  \n",
        "2. Exit : \n",
        "   - SMA(50) <= SMA(200) : Bearish cross over\n",
        "3. Position Sizing :\n",
        "  - buy / sell Apple 100 shares at time \n",
        "4. commission :\n",
        "  - 0.01"
      ]
    },
    {
      "cell_type": "code",
      "metadata": {
        "id": "VxKMnCGzbsrj",
        "colab_type": "code",
        "outputId": "3089f8a0-f903-4c2e-8e68-2591a5f83630",
        "colab": {
          "base_uri": "https://localhost:8080/",
          "height": 35
        }
      },
      "source": [
        "!pip install backtrader\n",
        "#python library\n",
        "import datetime\n",
        "import os.path\n",
        "import sys\n",
        "import backtrader as bt\n",
        "import matplotlib\n",
        "import matplotlib.pyplot as plt"
      ],
      "execution_count": 62,
      "outputs": [
        {
          "output_type": "stream",
          "text": [
            "Requirement already satisfied: backtrader in /usr/local/lib/python3.6/dist-packages (1.9.74.123)\n"
          ],
          "name": "stdout"
        }
      ]
    },
    {
      "cell_type": "code",
      "metadata": {
        "id": "xzx_Ptu0bQaT",
        "colab_type": "code",
        "colab": {}
      },
      "source": [
        "class SMA(bt.Strategy):\n",
        "\n",
        "    params = dict(\n",
        "        pfast=50,  # period for the fast moving average\n",
        "        pslow=200   # period for the slow moving average\n",
        "    )\n",
        "    def __init__(self):\n",
        "        sma1 = bt.indicators.SMA(period=self.p.pfast)  # fast moving average\n",
        "        sma2 = bt.indicators.SMA(period=self.p.pslow)  # slow moving average\n",
        "        self.crossover = bt.ind.CrossOver(sma1, sma2)  # crossover signal\n",
        "\n",
        "    def next(self):\n",
        "       \n",
        "        if self.crossover > 0:  # if fast crosses slow to the upside\n",
        "        \n",
        "            self.close()\n",
        "            self.buy(size = 100) # enter long\n",
        "            print(\"Buy {} shares\".format( self.data.close[0] * 100))\n",
        "                \n",
        " \n",
        "        elif self.crossover < 0:  # in the market & cross to the downside\n",
        "           \n",
        "            self.close()# close long position\n",
        "            self.sell(size = 100)\n",
        "            print(\"Sale {} shares\".format(self.data.close[0] * 100))\n",
        "            "
      ],
      "execution_count": 0,
      "outputs": []
    },
    {
      "cell_type": "code",
      "metadata": {
        "id": "WPZuaWVUQ4qP",
        "colab_type": "code",
        "colab": {
          "base_uri": "https://localhost:8080/",
          "height": 323
        },
        "outputId": "cbaac580-95ee-44eb-fe0c-da2b3d90fe7f"
      },
      "source": [
        "if __name__ == \"__main__\":\n",
        "    cerebro = bt.Cerebro()\n",
        "\n",
        "    cerebro.addstrategy(SMA)\n",
        "\n",
        "    data = bt.feeds.Quandl(\n",
        "        dataname = \"AAPL\",\n",
        "        fromdate = datetime.datetime(2000,1,1),\n",
        "        todate = datetime.datetime(2020,4,10),\n",
        "        buffered = True\n",
        "    )\n",
        "\n",
        "    cerebro.adddata(data)\n",
        "    cerebro.broker.setcash(100000.0)\n",
        "    cerebro.broker.setcommission(commission=0.01)\n",
        "    cerebro.run()\n",
        "\n",
        "    portvalue = cerebro.broker.getvalue()\n",
        "    pnl = portvalue - 100000.0\n",
        "\n",
        "    print('Final Portfolio Value: ${}'.format(portvalue))\n",
        "    print('P/L: ${}'.format(pnl))    \n",
        "\n",
        "    try:\n",
        "      cerebro.plot(style='candlestick')\n",
        "    except:\n",
        "      pass\n"
      ],
      "execution_count": 71,
      "outputs": [
        {
          "output_type": "stream",
          "text": [
            "Buy 152.61030096003 shares\n",
            "Sale 113.86334875838999 shares\n",
            "Buy 152.22475914708 shares\n",
            "Sale 112.64246635071001 shares\n",
            "Buy 120.35330260974999 shares\n",
            "Sale 743.58164324612 shares\n",
            "Buy 973.49307770296 shares\n",
            "Sale 1554.1190480082 shares\n",
            "Buy 2411.1797833391 shares\n",
            "Sale 1630.0707851596003 shares\n",
            "Buy 1535.6130409865 shares\n",
            "Sale 6870.4797880009 shares\n",
            "Buy 6536.6066167484 shares\n",
            "Sale 10898.630313072 shares\n",
            "Buy 10415.022226208 shares\n",
            "Final Portfolio Value: $116176.6302855532\n",
            "P/L: $16176.630285553198\n"
          ],
          "name": "stdout"
        }
      ]
    }
  ]
}
