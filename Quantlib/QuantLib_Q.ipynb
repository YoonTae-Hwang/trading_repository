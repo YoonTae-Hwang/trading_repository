{
 "cells": [
  {
   "cell_type": "code",
   "execution_count": 3,
   "metadata": {},
   "outputs": [],
   "source": [
    "import QuantLib as ql"
   ]
  },
  {
   "cell_type": "markdown",
   "metadata": {},
   "source": [
    "### 1. 2020년 6월 5일 출력해보기"
   ]
  },
  {
   "cell_type": "code",
   "execution_count": 20,
   "metadata": {},
   "outputs": [
    {
     "data": {
      "text/plain": [
       "Date(5,6,2020)"
      ]
     },
     "execution_count": 20,
     "metadata": {},
     "output_type": "execute_result"
    }
   ],
   "source": [
    "ql.Date(5, 6, 2020)"
   ]
  },
  {
   "cell_type": "markdown",
   "metadata": {},
   "source": [
    "### 2. Date객체에서 6월만 출력하기"
   ]
  },
  {
   "cell_type": "code",
   "execution_count": 21,
   "metadata": {},
   "outputs": [
    {
     "data": {
      "text/plain": [
       "6"
      ]
     },
     "execution_count": 21,
     "metadata": {},
     "output_type": "execute_result"
    }
   ],
   "source": [
    "ql.Date(5, 6, 2020).month()"
   ]
  },
  {
   "cell_type": "markdown",
   "metadata": {},
   "source": [
    "### 3. 2020년 4월 15일이 수요일인지 확인하기"
   ]
  },
  {
   "cell_type": "code",
   "execution_count": 23,
   "metadata": {},
   "outputs": [
    {
     "data": {
      "text/plain": [
       "True"
      ]
     },
     "execution_count": 23,
     "metadata": {},
     "output_type": "execute_result"
    }
   ],
   "source": [
    "today = ql.Date(15, 4, 2020)\n",
    "today.weekday() == ql.Wednesday"
   ]
  },
  {
   "cell_type": "markdown",
   "metadata": {},
   "source": [
    "### 4. 2020년 4월 1일에서 3주뒤, 2개월뒤, 1년뒤를 각각 출력"
   ]
  },
  {
   "cell_type": "code",
   "execution_count": 30,
   "metadata": {},
   "outputs": [
    {
     "name": "stdout",
     "output_type": "stream",
     "text": [
      "April 22nd, 2020\n",
      "June 1st, 2020\n",
      "April 1st, 2021\n"
     ]
    }
   ],
   "source": [
    "today = ql.Date(1, 4, 2020)\n",
    "print(today + ql.Period(3, ql.Weeks))\n",
    "print(today + ql.Period(2, ql.Months))\n",
    "print(today + ql.Period(1, ql.Years))"
   ]
  },
  {
   "cell_type": "markdown",
   "metadata": {},
   "source": [
    "### 5. 현재 날짜를 출력하기.\n"
   ]
  },
  {
   "cell_type": "code",
   "execution_count": 35,
   "metadata": {},
   "outputs": [
    {
     "data": {
      "text/plain": [
       "Date(17,4,2020)"
      ]
     },
     "execution_count": 35,
     "metadata": {},
     "output_type": "execute_result"
    }
   ],
   "source": [
    "today = ql.Date(1, 4, 2020)\n",
    "today.todaysDate()"
   ]
  },
  {
   "cell_type": "markdown",
   "metadata": {},
   "source": [
    "### 6. 현재(2020년도)는 윤년(2월 29일이존재)인지 여부 출력하기\n"
   ]
  },
  {
   "cell_type": "code",
   "execution_count": 40,
   "metadata": {},
   "outputs": [
    {
     "data": {
      "text/plain": [
       "True"
      ]
     },
     "execution_count": 40,
     "metadata": {},
     "output_type": "execute_result"
    }
   ],
   "source": [
    "today.isLeap(today.year()) \n",
    "#today.isLeap(2020)"
   ]
  },
  {
   "cell_type": "markdown",
   "metadata": {},
   "source": [
    "### 7. 현재(4월 17일)이 4월의 마지막날인지 여부 출력하기"
   ]
  },
  {
   "cell_type": "code",
   "execution_count": 42,
   "metadata": {},
   "outputs": [
    {
     "data": {
      "text/plain": [
       "False"
      ]
     },
     "execution_count": 42,
     "metadata": {},
     "output_type": "execute_result"
    }
   ],
   "source": [
    "today.isEndOfMonth(today)"
   ]
  },
  {
   "cell_type": "markdown",
   "metadata": {},
   "source": [
    "### 8. 현재(4월 17일)을 기준으로 다음주 월요일인 언제인지 출력하기"
   ]
  },
  {
   "cell_type": "code",
   "execution_count": 43,
   "metadata": {},
   "outputs": [
    {
     "data": {
      "text/plain": [
       "Date(6,4,2020)"
      ]
     },
     "execution_count": 43,
     "metadata": {},
     "output_type": "execute_result"
    }
   ],
   "source": [
    "today.nextWeekday(arg1 = today, arg2 = 2)"
   ]
  },
  {
   "cell_type": "markdown",
   "metadata": {},
   "source": [
    "### 9. 대한민국의 모든 휴무일 출력하기"
   ]
  },
  {
   "cell_type": "code",
   "execution_count": 70,
   "metadata": {},
   "outputs": [
    {
     "data": {
      "text/plain": [
       "(Date(1,1,2020),\n",
       " Date(24,1,2020),\n",
       " Date(27,1,2020),\n",
       " Date(15,4,2020),\n",
       " Date(30,4,2020),\n",
       " Date(1,5,2020),\n",
       " Date(5,5,2020),\n",
       " Date(30,9,2020),\n",
       " Date(1,10,2020),\n",
       " Date(2,10,2020),\n",
       " Date(9,10,2020),\n",
       " Date(25,12,2020),\n",
       " Date(31,12,2020))"
      ]
     },
     "execution_count": 70,
     "metadata": {},
     "output_type": "execute_result"
    }
   ],
   "source": [
    "start_date = ql.Date(1, 1, 2020)\n",
    "end_date = ql.Date(31, 12, 2020)\n",
    "\n",
    "kr = ql.SouthKorea()\n",
    "kr.holidayList(start_date, end_date)"
   ]
  },
  {
   "cell_type": "markdown",
   "metadata": {},
   "source": [
    "### 10. 4월 17일 휴무일 추가하기"
   ]
  },
  {
   "cell_type": "code",
   "execution_count": 72,
   "metadata": {},
   "outputs": [
    {
     "data": {
      "text/plain": [
       "(Date(1,1,2020),\n",
       " Date(24,1,2020),\n",
       " Date(27,1,2020),\n",
       " Date(15,4,2020),\n",
       " Date(17,4,2020),\n",
       " Date(30,4,2020),\n",
       " Date(1,5,2020),\n",
       " Date(5,5,2020),\n",
       " Date(30,9,2020),\n",
       " Date(1,10,2020),\n",
       " Date(2,10,2020),\n",
       " Date(9,10,2020),\n",
       " Date(25,12,2020),\n",
       " Date(31,12,2020))"
      ]
     },
     "execution_count": 72,
     "metadata": {},
     "output_type": "execute_result"
    }
   ],
   "source": [
    "kr.addHoliday(ql.Date(17,4,2020))\n",
    "kr.holidayList(start_date, end_date)"
   ]
  },
  {
   "cell_type": "markdown",
   "metadata": {},
   "source": [
    "### 11. 4월 17일 휴무일 제거하기"
   ]
  },
  {
   "cell_type": "code",
   "execution_count": 74,
   "metadata": {},
   "outputs": [
    {
     "data": {
      "text/plain": [
       "(Date(1,1,2020),\n",
       " Date(24,1,2020),\n",
       " Date(27,1,2020),\n",
       " Date(15,4,2020),\n",
       " Date(30,4,2020),\n",
       " Date(1,5,2020),\n",
       " Date(5,5,2020),\n",
       " Date(30,9,2020),\n",
       " Date(1,10,2020),\n",
       " Date(2,10,2020),\n",
       " Date(9,10,2020),\n",
       " Date(25,12,2020),\n",
       " Date(31,12,2020))"
      ]
     },
     "execution_count": 74,
     "metadata": {},
     "output_type": "execute_result"
    }
   ],
   "source": [
    "kr.removeHoliday(ql.Date(17, 4, 2020))\n",
    "kr.holidayList(start_date, end_date)"
   ]
  },
  {
   "cell_type": "markdown",
   "metadata": {},
   "source": [
    "### 12. 한국의 영업일수 출력하기"
   ]
  },
  {
   "cell_type": "code",
   "execution_count": 75,
   "metadata": {},
   "outputs": [
    {
     "data": {
      "text/plain": [
       "249"
      ]
     },
     "execution_count": 75,
     "metadata": {},
     "output_type": "execute_result"
    }
   ],
   "source": [
    "kr.businessDaysBetween(start_date, end_date)"
   ]
  },
  {
   "cell_type": "markdown",
   "metadata": {},
   "source": [
    "### 13. 4월 15일이 휴무일인지 여부 출력하기 + 영업일인지 여부 출력하기"
   ]
  },
  {
   "cell_type": "code",
   "execution_count": 78,
   "metadata": {},
   "outputs": [
    {
     "name": "stdout",
     "output_type": "stream",
     "text": [
      "False\n",
      "True\n"
     ]
    }
   ],
   "source": [
    "print(kr.isBusinessDay(ql.Date(15,4,2020)))\n",
    "print(kr.isHoliday(ql.Date(15,4,2020)))"
   ]
  },
  {
   "cell_type": "markdown",
   "metadata": {},
   "source": [
    "### 14. 파생상품이 1월 14일부터 시작해서 6월 1일에 만기일이다. 만기일이 휴무인경우 전일이나 다음날로 하라."
   ]
  },
  {
   "cell_type": "code",
   "execution_count": 93,
   "metadata": {},
   "outputs": [
    {
     "data": {
      "text/plain": [
       "Date(16,4,2020)"
      ]
     },
     "execution_count": 93,
     "metadata": {},
     "output_type": "execute_result"
    }
   ],
   "source": [
    "kr.advance(ql.Date(15,1,2020), ql.Period(3, ql.Months), ql.ModifiedFollowing, True)"
   ]
  },
  {
   "cell_type": "markdown",
   "metadata": {},
   "source": [
    "### 15. 미국과 이탈리아의 휴무일을 모두 출력하라."
   ]
  },
  {
   "cell_type": "code",
   "execution_count": 95,
   "metadata": {},
   "outputs": [
    {
     "data": {
      "text/plain": [
       "(Date(1,1,2020),\n",
       " Date(6,1,2020),\n",
       " Date(20,1,2020),\n",
       " Date(17,2,2020),\n",
       " Date(13,4,2020),\n",
       " Date(1,5,2020),\n",
       " Date(25,5,2020),\n",
       " Date(2,6,2020),\n",
       " Date(3,7,2020),\n",
       " Date(7,9,2020),\n",
       " Date(12,10,2020),\n",
       " Date(11,11,2020),\n",
       " Date(26,11,2020),\n",
       " Date(8,12,2020),\n",
       " Date(25,12,2020))"
      ]
     },
     "execution_count": 95,
     "metadata": {},
     "output_type": "execute_result"
    }
   ],
   "source": [
    "us_calendar = ql.UnitedStates() #US Calendar\n",
    "italy_calendar = ql.Italy()      #Italy Calendar\n",
    "\n",
    "joint_date = ql.JointCalendar(us_calendar, italy_calendar)\n",
    "joint_date.holidayList(start_date, end_date)"
   ]
  },
  {
   "cell_type": "markdown",
   "metadata": {},
   "source": []
  },
  {
   "cell_type": "code",
   "execution_count": null,
   "metadata": {},
   "outputs": [],
   "source": []
  },
  {
   "cell_type": "code",
   "execution_count": null,
   "metadata": {},
   "outputs": [],
   "source": []
  },
  {
   "cell_type": "code",
   "execution_count": null,
   "metadata": {},
   "outputs": [],
   "source": []
  },
  {
   "cell_type": "code",
   "execution_count": null,
   "metadata": {},
   "outputs": [],
   "source": []
  },
  {
   "cell_type": "code",
   "execution_count": null,
   "metadata": {},
   "outputs": [],
   "source": []
  },
  {
   "cell_type": "code",
   "execution_count": null,
   "metadata": {},
   "outputs": [],
   "source": []
  },
  {
   "cell_type": "code",
   "execution_count": null,
   "metadata": {},
   "outputs": [],
   "source": []
  },
  {
   "cell_type": "code",
   "execution_count": null,
   "metadata": {},
   "outputs": [],
   "source": []
  },
  {
   "cell_type": "code",
   "execution_count": null,
   "metadata": {},
   "outputs": [],
   "source": []
  }
 ],
 "metadata": {
  "kernelspec": {
   "display_name": "Python 3",
   "language": "python",
   "name": "python3"
  },
  "language_info": {
   "codemirror_mode": {
    "name": "ipython",
    "version": 3
   },
   "file_extension": ".py",
   "mimetype": "text/x-python",
   "name": "python",
   "nbconvert_exporter": "python",
   "pygments_lexer": "ipython3",
   "version": "3.7.1"
  }
 },
 "nbformat": 4,
 "nbformat_minor": 2
}
