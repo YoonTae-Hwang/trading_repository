{
 "cells": [
  {
   "cell_type": "markdown",
   "metadata": {},
   "source": [
    "### Quantlib tutorial"
   ]
  },
  {
   "cell_type": "code",
   "execution_count": 2,
   "metadata": {},
   "outputs": [],
   "source": [
    "import QuantLib as ql"
   ]
  },
  {
   "cell_type": "markdown",
   "metadata": {},
   "source": [
    "### 1. Quantlib date class\n",
    "- ql.Date(day, month, year) \n",
    "- qunatlib의 date는 python의 datetime object와는 다르다.\n",
    "- ql.Date 객체는 month(), dayOfMonth(), year() method를 이용하여 접근할 수 있다."
   ]
  },
  {
   "cell_type": "code",
   "execution_count": 3,
   "metadata": {},
   "outputs": [
    {
     "data": {
      "text/plain": [
       "Date(15,6,2020)"
      ]
     },
     "execution_count": 3,
     "metadata": {},
     "output_type": "execute_result"
    }
   ],
   "source": [
    "today = ql.Date(15,6,2020)\n",
    "today"
   ]
  },
  {
   "cell_type": "code",
   "execution_count": 4,
   "metadata": {},
   "outputs": [
    {
     "name": "stdout",
     "output_type": "stream",
     "text": [
      "6-15-2020\n",
      "6\n"
     ]
    }
   ],
   "source": [
    "print(\"%d-%d-%d\" %(today.month(), today.dayOfMonth(), today.year()))\n",
    "print(today.month())"
   ]
  },
  {
   "cell_type": "markdown",
   "metadata": {},
   "source": [
    "- object.weekday()\n",
    "- 1 = 일요일, 2 = 월요일.... 7 = 토요일\n",
    "- using derivatives pricing or backtesting \n",
    "- 파생상품은 주로 만기월의 3번째 수요일과 같은 방식으로 만기일이 정해진다"
   ]
  },
  {
   "cell_type": "code",
   "execution_count": 5,
   "metadata": {},
   "outputs": [
    {
     "name": "stdout",
     "output_type": "stream",
     "text": [
      "2\n",
      "True\n",
      "June 16th, 2020\n",
      "True\n"
     ]
    }
   ],
   "source": [
    "print(today.weekday())\n",
    "print(today.weekday() == ql.Monday)\n",
    "print(today+1)\n",
    "print((today+1).weekday() == ql.Tuesday)"
   ]
  },
  {
   "cell_type": "markdown",
   "metadata": {},
   "source": [
    "- Period(num_periods, period_type)\n",
    "- num_periods는 오직 integer 타입만 올 수 있다.\n",
    "- period_type은 각각 Weeks, Months, Years를 받는다."
   ]
  },
  {
   "cell_type": "code",
   "execution_count": 6,
   "metadata": {},
   "outputs": [
    {
     "name": "stdout",
     "output_type": "stream",
     "text": [
      "Add a day : June 16th, 2020\n",
      "Subtract a day : June 14th, 2020\n",
      "Add a week : June 22nd, 2020\n",
      "Add a month : July 15th, 2020\n",
      "Add a year : June 15th, 2021\n"
     ]
    }
   ],
   "source": [
    "print(\"Add a day : {0}\".format(today + 1))\n",
    "print(\"Subtract a day : {0}\".format(today - 1))\n",
    "print(\"Add a week : {0}\".format(today + ql.Period(1, ql.Weeks)))\n",
    "print(\"Add a month : {0}\".format(today + ql.Period(1, ql.Months)))\n",
    "print(\"Add a year : {0}\".format(today + ql.Period(1, ql.Years)))"
   ]
  },
  {
   "cell_type": "markdown",
   "metadata": {},
   "source": [
    "- ql.Date object는 logical operation도 가능하다."
   ]
  },
  {
   "cell_type": "code",
   "execution_count": 7,
   "metadata": {},
   "outputs": [
    {
     "name": "stdout",
     "output_type": "stream",
     "text": [
      "True\n",
      "True\n",
      "True\n",
      "True\n"
     ]
    }
   ],
   "source": [
    "print(today == ql.Date(15, 6, 2020))\n",
    "print(today > ql.Date(15, 6, 2015))\n",
    "print(today < ql.Date(1, 4, 2055))\n",
    "print(today != ql.Date(1, 4, 2015))"
   ]
  },
  {
   "cell_type": "markdown",
   "metadata": {},
   "source": [
    "- object.todaysDate() : 현재 날짜 출력\n",
    "- isLeap(year) / isEndOfMonth(date) :  해당연도에 2월 29일이 존재하는지여부(윤년) / 특정 일(days)가 특정 월의 마지막 날인가 여부 (bool)\n",
    "- endOfMonth(date) : 해당 월의 마지막날을 출력\n",
    "- nextWeekday(date, weekday) : 다음주의 특정요일이 언제인지 출력한다.\n",
    "- nthWeekday(size, weekday, month, year) : 몇년(year) 몇월달(month)의 몇번째(size), 요일(weekday)은 언제인가"
   ]
  },
  {
   "cell_type": "code",
   "execution_count": 33,
   "metadata": {},
   "outputs": [
    {
     "name": "stdout",
     "output_type": "stream",
     "text": [
      "오늘의 날짜는: April 15th, 2020\n",
      "2월 29일 존재하는가 True\n",
      "4월 1일이 4월의 마지막날인가  False\n",
      "4월의 마지막날은 언제인가  April 30th, 2020\n",
      "4월 1일 기준으로 다음주 월요일은 언제인가?  April 6th, 2020\n",
      "4월을 3번째주 화요일은 언제인가?  April 21st, 2020\n"
     ]
    }
   ],
   "source": [
    "not_today = ql.Date(1,4,2020)\n",
    "\n",
    "print(\"오늘의 날짜는: {0}\".format(not_today.todaysDate()))\n",
    "print(\"2월 29일 존재하는가 {0}\".format(not_today.isLeap(not_today.year())))          #2020년도에는 2월 29일이 존재한다.\n",
    "print(\"4월 1일이 4월의 마지막날인가  {0}\".format(not_today.isEndOfMonth(not_today))) \n",
    "print(\"4월의 마지막날은 언제인가  {0}\".format(not_today.endOfMonth(not_today)))   \n",
    "print(\"4월 1일 기준으로 다음주 월요일은 언제인가?  {0}\".format(not_today.nextWeekday(not_today, 2))) #일요일 1, 월요일 2 ... 토요일 7\n",
    "print(\"4월을 3번째주 화요일은 언제인가?  {0}\".format(not_today.nthWeekday(3, 3, 4, 2020))) #일요일 1, 월요일 2 ... 토요일 7\n"
   ]
  },
  {
   "cell_type": "markdown",
   "metadata": {},
   "source": [
    "### 2. Quantlib Calendar class\n",
    "- ql.Date는 Holidays를 고려하지 않았다. 즉, 특정거래소나 특정 국가에서 관측되어지는 휴일들도 분명히 고려해야할 요소이다.\n",
    "- object.holidayList(start_date, end_date) : 특정국가의 휴일을 보여준다. **비정기적휴일, 대체공휴일은 항상 트래킹되지 않으므로 다음과 같이 사용한다**\n",
    "- object.addHoliday(date) : 특정일 휴무일로 업데이트\n",
    "- object.removeHoliday(date) : 특정 휴무일 제거"
   ]
  },
  {
   "cell_type": "code",
   "execution_count": 47,
   "metadata": {},
   "outputs": [
    {
     "name": "stdout",
     "output_type": "stream",
     "text": [
      "모든 휴무일 (Date(1,1,2020), Date(24,1,2020), Date(27,1,2020), Date(16,4,2020), Date(30,4,2020), Date(1,5,2020), Date(5,5,2020), Date(30,9,2020), Date(1,10,2020), Date(2,10,2020), Date(9,10,2020), Date(25,12,2020), Date(31,12,2020))\n",
      "(Date(1,1,2020), Date(24,1,2020), Date(27,1,2020), Date(16,4,2020), Date(30,4,2020), Date(1,5,2020), Date(5,5,2020), Date(30,9,2020), Date(1,10,2020), Date(2,10,2020), Date(9,10,2020), Date(25,12,2020), Date(31,12,2020))\n"
     ]
    }
   ],
   "source": [
    "start_date = ql.Date(1,1,2020)\n",
    "end_date = ql.Date(31, 12, 2020)\n",
    "\n",
    "kr = ql.SouthKorea()\n",
    "print(\"모든 휴무일 {0}\".format(kr.holidayList(start_date, end_date))) \n",
    "\n",
    "kr.addHoliday(ql.Date(16,4,2020))\n",
    "kr.removeHoliday(ql.Date(15,4,2020))\n",
    "\n",
    "print(kr.holidayList(start_date, end_date)) #4월 16일이 휴무로 추가되고 4월 15일이 삭제되었다."
   ]
  },
  {
   "cell_type": "markdown",
   "metadata": {},
   "source": [
    "- object.businessDaysBetween(start, end) : 시작일과 종료일 사이의 영업일수를 계산.\n",
    "- object.isBusinessDay(date) : 특정 date가 영업일인지 유무(bools)\n",
    "- object.isHoliday(date) : 특정 date가 공휴일인지 여부"
   ]
  },
  {
   "cell_type": "code",
   "execution_count": 53,
   "metadata": {},
   "outputs": [
    {
     "name": "stdout",
     "output_type": "stream",
     "text": [
      "249\n",
      "False\n",
      "True\n"
     ]
    }
   ],
   "source": [
    "print(kr.businessDaysBetween(start_date, end_date))\n",
    "print(kr.isBusinessDay(ql.Date(16,4,2020)))\n",
    "print(kr.isHoliday(ql.Date(16,4,2020)))"
   ]
  },
  {
   "cell_type": "markdown",
   "metadata": {},
   "source": [
    "- 영업일 관행(Business Day Convention)은 이론적 만기일과 공휴일이 겹칠때 실제 만기일은 어떤 날짜로 해야하는지 판단 기준이 크게 5가지로 나타난다. 이에 대해선 아래 블로그를 살펴보라.\n",
    "\n",
    "- ql.Unadjusted : 만기일이 휴일인경우 : 휴일 = 만기일\n",
    "- ql.Preceding  : 만기일이 휴일인경우 : 휴일 전날을 만기일로 정한다.\n",
    "- ql.ModifiedPreceding : 만기일이 휴일인경우 : 동월, 이월\n",
    "- ql.Following : 만기일이 휴일인경우 : 다음달로 이월한다.\n",
    "- ql.ModifiedFollowing : 만기일이 휴일인경우 : 동월, 이월\n",
    "\n",
    "- [Link](https://blog.naver.com/stochastic73/221903332183)\n",
    "\n",
    "- object.advance(특정일자, 특정기간, 영업일관행, 월말기준(bool) : 어떤특정일자로부터 특정기간 후의 날짜를 반환하는 기능\n",
    "- 월말기준은 영업일의 마지막일자를 월의 마지막으로 할지여부이다."
   ]
  },
  {
   "cell_type": "code",
   "execution_count": 58,
   "metadata": {},
   "outputs": [
    {
     "data": {
      "text/plain": [
       "Date(1,7,2020)"
      ]
     },
     "execution_count": 58,
     "metadata": {},
     "output_type": "execute_result"
    }
   ],
   "source": [
    "kr.advance(start_date, ql.Period(6, ql.Months), ql.ModifiedFollowing, True)\n",
    "#1월 1일인 경우 6월1일이 휴무일이 만기일이면 이월한다."
   ]
  },
  {
   "cell_type": "code",
   "execution_count": 62,
   "metadata": {},
   "outputs": [
    {
     "name": "stdout",
     "output_type": "stream",
     "text": [
      "Add 60 days: May 30th, 2020\n",
      "Add 60 business days in US: June 24th, 2020\n",
      "Add 60 business days in Italy: June 26th, 2020\n",
      "Add 60 business days in UK: June 29th, 2020\n"
     ]
    }
   ],
   "source": [
    "today = ql.Date(31, 3, 2020)\n",
    "uk_calendar = ql.UnitedKingdom() #UK Calendar\n",
    "us_calendar = ql.UnitedStates() #US Calendar\n",
    "italy_calendar = ql.Italy()      #Italy Calendar\n",
    "\n",
    "period = ql.Period(60, ql.Days)\n",
    "raw_date = today + period \n",
    "\n",
    "us_date = us_calendar.advance(today, period)\n",
    "italy_date = italy_calendar.advance(today, period)\n",
    "uk_date = uk_calendar.advance(today, period)\n",
    "\n",
    "print(\"Add 60 days: {0}\".format(raw_date))\n",
    "print(\"Add 60 business days in US: {0}\".format(us_date))\n",
    "print(\"Add 60 business days in Italy: {0}\".format(italy_date))\n",
    "print(\"Add 60 business days in UK: {0}\".format(uk_date))\n"
   ]
  },
  {
   "cell_type": "code",
   "execution_count": 63,
   "metadata": {},
   "outputs": [
    {
     "name": "stdout",
     "output_type": "stream",
     "text": [
      "Business days US: 60\n",
      "Business days Italy: 60\n",
      "Business days Uk: 60\n"
     ]
    }
   ],
   "source": [
    "us_busdays = us_calendar.businessDaysBetween(today, us_date)\n",
    "italy_busdays = italy_calendar.businessDaysBetween(today, italy_date)\n",
    "uk_busdays = uk_calendar.businessDaysBetween(today, uk_date)\n",
    "\n",
    "print(\"Business days US: {0}\".format(us_busdays)) \n",
    "print(\"Business days Italy: {0}\".format(italy_busdays))\n",
    "print(\"Business days Uk: {0}\".format(uk_busdays))"
   ]
  },
  {
   "cell_type": "code",
   "execution_count": 66,
   "metadata": {},
   "outputs": [
    {
     "name": "stdout",
     "output_type": "stream",
     "text": [
      "(Date(1,1,2020), Date(6,1,2020), Date(20,1,2020), Date(17,2,2020), Date(13,4,2020), Date(1,5,2020), Date(25,5,2020), Date(2,6,2020), Date(3,7,2020), Date(7,9,2020), Date(12,10,2020), Date(11,11,2020), Date(26,11,2020), Date(8,12,2020), Date(25,12,2020)) \n",
      "\n",
      "Add 60 business days in US-Italy: June 29th, 2020\n",
      "Business days US-Italy: 60\n"
     ]
    }
   ],
   "source": [
    "joint_calendar = ql.JointCalendar(us_calendar, italy_calendar)\n",
    "joint_date = joint_calendar.advance(today, period)\n",
    "joint_busdays = joint_calendar.businessDaysBetween(today, joint_date)\n",
    "\n",
    "print(joint_calendar.holidayList(start_date, end_date), '\\n')\n",
    "print(\"Add 60 business days in US-Italy: {0}\".format(joint_date))\n",
    "print(\"Business days US-Italy: {0}\".format(joint_busdays))\n"
   ]
  }
 ],
 "metadata": {
  "kernelspec": {
   "display_name": "Python 3",
   "language": "python",
   "name": "python3"
  },
  "language_info": {
   "codemirror_mode": {
    "name": "ipython",
    "version": 3
   },
   "file_extension": ".py",
   "mimetype": "text/x-python",
   "name": "python",
   "nbconvert_exporter": "python",
   "pygments_lexer": "ipython3",
   "version": "3.7.1"
  }
 },
 "nbformat": 4,
 "nbformat_minor": 2
}
