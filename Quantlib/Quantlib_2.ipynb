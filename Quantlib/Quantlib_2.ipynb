{
 "cells": [
  {
   "cell_type": "code",
   "execution_count": 30,
   "metadata": {},
   "outputs": [],
   "source": [
    "import QuantLib as ql\n",
    "import pandas as pd"
   ]
  },
  {
   "cell_type": "markdown",
   "metadata": {},
   "source": [
    "### 1. DayCounter\n",
    "\n",
    "- 이자 일수에 대해서 계산방식은 국가와 시장마다 적용하는 방법들이 다르다. \n",
    "- 이자 일수가 1년 미만인 경우 \n",
    "  - 금리의 고시 단위가 연율이기 때문에 시간프레임을 연단위로 맞춘다.\n",
    "  - 이러한 과정에서 필요한 것이 이자 일수 계산방식이다. 1년을 며칠로 볼것인지, 한달을 며칠로로 볼것인지에 대해서 선택해야한다.\n",
    "  - 1년을 며칠로 볼것인지에 대해서는 ACT, 252, 360, 365일이 있다. ACT의 경우에 윤년이면 366일이 되고 나머지 252, 360, 365일은 고정해서 사용한다.\n",
    "  - 한 달을 며칠로 볼것인지에 대해서는 ACT, 30, 영업일이 있다. ACT는 실제 이자구간의 일수를 계산하는 것이며 영업일은 휴일을 제외한 영업일만 카운트한다는 의미이다. \n",
    "  - 일반적으로 표기법은 $\\frac{한달 관행}{일년 관행}$으로 사용하고 미국은 $\\frac{ACT}{360}$, 유럽은 $\\frac{30}{360}$, 한국은 $\\frac{ACT}{365}$를 사용한다."
   ]
  },
  {
   "cell_type": "code",
   "execution_count": 6,
   "metadata": {},
   "outputs": [],
   "source": [
    "act360 = ql.Actual360() #ACT/360\n",
    "act365 = ql.Actual365Fixed() # ACT/ 365\n",
    "actact = ql.ActualActual() #ACT/ACT\n",
    "thirty360 = ql.Thirty360() #30/360\n",
    "b252 = ql.Business252() #BusinessDay/252"
   ]
  },
  {
   "cell_type": "code",
   "execution_count": 16,
   "metadata": {},
   "outputs": [
    {
     "name": "stdout",
     "output_type": "stream",
     "text": [
      "154\n",
      "154\n",
      "154\n",
      "152\n",
      "104\n"
     ]
    }
   ],
   "source": [
    "start_date = ql.Date(1, 1, 2020)\n",
    "end_date = ql.Date(3, 6, 2020)\n",
    "\n",
    "print(act360.dayCount(start_date, end_date))\n",
    "print(act365.dayCount(start_date, end_date))\n",
    "print(actact.dayCount(start_date, end_date))\n",
    "print(thirty360.dayCount(start_date, end_date))\n",
    "print(b252.dayCount(start_date, end_date))"
   ]
  },
  {
   "cell_type": "markdown",
   "metadata": {},
   "source": [
    "- yearFunction()은 이자 일수 계산방식이 두 날짜 사이의 기간에서 연단위로 계산되서 얼마나 되는지 나타낸다."
   ]
  },
  {
   "cell_type": "code",
   "execution_count": 18,
   "metadata": {},
   "outputs": [
    {
     "name": "stdout",
     "output_type": "stream",
     "text": [
      "0.42777777777777776\n",
      "0.42191780821917807\n",
      "0.4207650273224044\n",
      "0.4222222222222222\n",
      "0.4126984126984127\n"
     ]
    }
   ],
   "source": [
    "print(act360.yearFraction(start_date, end_date))\n",
    "print(act365.yearFraction(start_date, end_date))\n",
    "print(actact.yearFraction(start_date, end_date))\n",
    "print(thirty360.yearFraction(start_date, end_date))\n",
    "print(b252.yearFraction(start_date, end_date))"
   ]
  },
  {
   "cell_type": "markdown",
   "metadata": {},
   "source": [
    "### 2. Schedule\n",
    "- 채권, 스왑 등과 같이 금리를 기초하는 FICC 상품들은 이자지급 스케줄이 존재한다. 이자지급 스케줄이란 주기적으로 이자가 발생하는 것에 대한 구체적인 일련의 날짜들을 의미한다.\n",
    "- ql.Schedule에는 효력발생일, 만기일, 이자지급주기, 달력, 이자결제일의 영업일관행, 만기일의 영업일관행, 날짜 생성 방식, 월말기준으로 이루어져있다.\n",
    "- DateGeneration(날짜생성방식)은 다음과 같이 이루어져있다.\n",
    "   - ql.Backward : 만기일로부터 효력발생일까지 후진방식으로 이자지급 스케줄 생성\n",
    "   - ql.Forward : 효력발생일부터 만기일까지 전진 방식으로 이자지급 스케줄 생성\n",
    "   - ql.Zero : 효력발생일과 만기일 사이에 어떤 결제일도 존재하지 않음.\n",
    "   - ql.ThirdWednesday :효력발생일과 만기일을 제외한 모든 중간 이자지급일을 해당 월의 세 번째 수요일로 지정.\n",
    "   - ql.Twentieth : 효력발생일을 제외한 모든 이자지급일을 해당월의 20일로 지정\n",
    "   - ql.TwentiethlMM : 효력발생일을 제외한 모든 이자지급일을 3,6,9,12월 20일로 지정\n",
    "- endOfMonth(월말기준)이 True이고 효력발생일이 월말 영업일이라면 스케줄을 생성할때 이자지급일을 월말 영업일로 맞추도록 조정한다. 이 값이 False이면 효력발생일이 어떤날인가에 상관없이 일반적인 일수계산방식을 사용한다."
   ]
  },
  {
   "cell_type": "code",
   "execution_count": 26,
   "metadata": {},
   "outputs": [
    {
     "data": {
      "text/plain": [
       "<QuantLib.QuantLib.Schedule; proxy of <Swig Object of type 'Schedule *' at 0x0000024A53D6AE70> >"
      ]
     },
     "execution_count": 26,
     "metadata": {},
     "output_type": "execute_result"
    }
   ],
   "source": [
    "effectiveDate = ql.Date(13, 4, 2020)\n",
    "maturityDate = ql.Date(15, 4, 2023)\n",
    "tenor = ql.Period(3, ql.Months) #이자지급주기\n",
    "calender = ql.SouthKorea()\n",
    "convention = ql.ModifiedFollowing\n",
    "rule = ql.DateGeneration.Backward\n",
    "endOfMonth = False\n",
    "\n",
    "schedule = ql.Schedule(effectiveDate,  #효력발생일\n",
    "                      maturityDate,    #만기일\n",
    "                      tenor,           #이자지급주기\n",
    "                      calender,        #켈린더\n",
    "                      convention,      #이자일의 영업일관행\n",
    "                      convention,      #만기일의 영업일관행\n",
    "                      rule,            #날짜생성방식(후진방식 이자지급 스케줄)\n",
    "                      endOfMonth)      #월말기준\n",
    "schedule"
   ]
  },
  {
   "cell_type": "markdown",
   "metadata": {},
   "source": [
    "- schedule은 우리가 원하는 시장관행들을 바탕으로 이자지급 스케줄을 생성해 금융상품객체에 넘겨주는 역할은 한다. 즉, 미국 국채를 구현한다고 했을때 미국 국채라는 금융상품을 만드는 과정에서 이자지급 스케줄이 필요하고 이것을 schedule 클래스가 수행한다."
   ]
  },
  {
   "cell_type": "code",
   "execution_count": 28,
   "metadata": {},
   "outputs": [
    {
     "name": "stdout",
     "output_type": "stream",
     "text": [
      "Next payment date from October 4th, 2021 : October 15th, 2021\n",
      "previous payment date from October 4th, 2021 : July 15th, 2021\n"
     ]
    }
   ],
   "source": [
    "ref_date = ql.Date(4, 10, 2021)\n",
    "\n",
    "print(\"Next payment date from {} : {}\".format(ref_date, schedule.nextDate(ref_date)))\n",
    "print(\"previous payment date from {} : {}\".format(ref_date, schedule.previousDate(ref_date)))"
   ]
  },
  {
   "cell_type": "code",
   "execution_count": 31,
   "metadata": {},
   "outputs": [
    {
     "data": {
      "text/html": [
       "<div>\n",
       "<style scoped>\n",
       "    .dataframe tbody tr th:only-of-type {\n",
       "        vertical-align: middle;\n",
       "    }\n",
       "\n",
       "    .dataframe tbody tr th {\n",
       "        vertical-align: top;\n",
       "    }\n",
       "\n",
       "    .dataframe thead th {\n",
       "        text-align: right;\n",
       "    }\n",
       "</style>\n",
       "<table border=\"1\" class=\"dataframe\">\n",
       "  <thead>\n",
       "    <tr style=\"text-align: right;\">\n",
       "      <th></th>\n",
       "      <th>date</th>\n",
       "    </tr>\n",
       "  </thead>\n",
       "  <tbody>\n",
       "    <tr>\n",
       "      <th>0</th>\n",
       "      <td>April 13th, 2020</td>\n",
       "    </tr>\n",
       "    <tr>\n",
       "      <th>1</th>\n",
       "      <td>April 16th, 2020</td>\n",
       "    </tr>\n",
       "    <tr>\n",
       "      <th>2</th>\n",
       "      <td>July 15th, 2020</td>\n",
       "    </tr>\n",
       "    <tr>\n",
       "      <th>3</th>\n",
       "      <td>October 15th, 2020</td>\n",
       "    </tr>\n",
       "    <tr>\n",
       "      <th>4</th>\n",
       "      <td>January 15th, 2021</td>\n",
       "    </tr>\n",
       "    <tr>\n",
       "      <th>5</th>\n",
       "      <td>April 15th, 2021</td>\n",
       "    </tr>\n",
       "    <tr>\n",
       "      <th>6</th>\n",
       "      <td>July 15th, 2021</td>\n",
       "    </tr>\n",
       "    <tr>\n",
       "      <th>7</th>\n",
       "      <td>October 15th, 2021</td>\n",
       "    </tr>\n",
       "    <tr>\n",
       "      <th>8</th>\n",
       "      <td>January 17th, 2022</td>\n",
       "    </tr>\n",
       "    <tr>\n",
       "      <th>9</th>\n",
       "      <td>April 15th, 2022</td>\n",
       "    </tr>\n",
       "    <tr>\n",
       "      <th>10</th>\n",
       "      <td>July 15th, 2022</td>\n",
       "    </tr>\n",
       "    <tr>\n",
       "      <th>11</th>\n",
       "      <td>October 17th, 2022</td>\n",
       "    </tr>\n",
       "    <tr>\n",
       "      <th>12</th>\n",
       "      <td>January 16th, 2023</td>\n",
       "    </tr>\n",
       "    <tr>\n",
       "      <th>13</th>\n",
       "      <td>April 17th, 2023</td>\n",
       "    </tr>\n",
       "  </tbody>\n",
       "</table>\n",
       "</div>"
      ],
      "text/plain": [
       "                  date\n",
       "0     April 13th, 2020\n",
       "1     April 16th, 2020\n",
       "2      July 15th, 2020\n",
       "3   October 15th, 2020\n",
       "4   January 15th, 2021\n",
       "5     April 15th, 2021\n",
       "6      July 15th, 2021\n",
       "7   October 15th, 2021\n",
       "8   January 17th, 2022\n",
       "9     April 15th, 2022\n",
       "10     July 15th, 2022\n",
       "11  October 17th, 2022\n",
       "12  January 16th, 2023\n",
       "13    April 17th, 2023"
      ]
     },
     "execution_count": 31,
     "metadata": {},
     "output_type": "execute_result"
    }
   ],
   "source": [
    "pd.DataFrame({'date': list(schedule)})"
   ]
  },
  {
   "cell_type": "markdown",
   "metadata": {},
   "source": [
    "### 3. Quote \n",
    "- 파생상품에는 주가, 금리, 환율, 변동성 등 기초가되는 자산들이 필요하다. quote클래스는 실수값을 받아 기초자산의 객체를 만들어준다. 여기서는 SimpleQuote를 살펴보자."
   ]
  },
  {
   "cell_type": "code",
   "execution_count": 39,
   "metadata": {},
   "outputs": [
    {
     "data": {
      "text/plain": [
       "3213.5342"
      ]
     },
     "execution_count": 39,
     "metadata": {},
     "output_type": "execute_result"
    }
   ],
   "source": [
    "quote = ql.SimpleQuote(3213.5342)\n",
    "quote.value()"
   ]
  },
  {
   "cell_type": "code",
   "execution_count": 36,
   "metadata": {},
   "outputs": [
    {
     "data": {
      "text/plain": [
       "<QuantLib.QuantLib.ActualActual; proxy of <Swig Object of type 'QuantLib::ActualActual *' at 0x0000024A5684A3F0> >"
      ]
     },
     "execution_count": 36,
     "metadata": {},
     "output_type": "execute_result"
    }
   ],
   "source": [
    "quote.setV"
   ]
  }
 ],
 "metadata": {
  "kernelspec": {
   "display_name": "Python 3",
   "language": "python",
   "name": "python3"
  },
  "language_info": {
   "codemirror_mode": {
    "name": "ipython",
    "version": 3
   },
   "file_extension": ".py",
   "mimetype": "text/x-python",
   "name": "python",
   "nbconvert_exporter": "python",
   "pygments_lexer": "ipython3",
   "version": "3.7.1"
  }
 },
 "nbformat": 4,
 "nbformat_minor": 2
}
